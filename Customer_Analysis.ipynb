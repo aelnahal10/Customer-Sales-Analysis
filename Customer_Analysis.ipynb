{
 "cells": [
  {
   "cell_type": "code",
   "execution_count": 2,
   "metadata": {
    "collapsed": true,
    "pycharm": {
     "name": "#%%\n"
    }
   },
   "outputs": [
    {
     "name": "stderr",
     "output_type": "stream",
     "text": [
      "C:\\Users\\abdal\\AppData\\Local\\Temp\\ipykernel_31668\\1858474072.py:5: DtypeWarning: Columns (0) have mixed types. Specify dtype option on import or set low_memory=False.\n",
      "  sales_df = pd.read_csv(\"Data/sales_06_FY2020-21 copy.csv\")\n"
     ]
    },
    {
     "data": {
      "text/html": [
       "<div>\n",
       "<style scoped>\n",
       "    .dataframe tbody tr th:only-of-type {\n",
       "        vertical-align: middle;\n",
       "    }\n",
       "\n",
       "    .dataframe tbody tr th {\n",
       "        vertical-align: top;\n",
       "    }\n",
       "\n",
       "    .dataframe thead th {\n",
       "        text-align: right;\n",
       "    }\n",
       "</style>\n",
       "<table border=\"1\" class=\"dataframe\">\n",
       "  <thead>\n",
       "    <tr style=\"text-align: right;\">\n",
       "      <th></th>\n",
       "      <th>order_id</th>\n",
       "      <th>order_date</th>\n",
       "      <th>status</th>\n",
       "      <th>item_id</th>\n",
       "      <th>sku</th>\n",
       "      <th>qty_ordered</th>\n",
       "      <th>price</th>\n",
       "      <th>value</th>\n",
       "      <th>discount_amount</th>\n",
       "      <th>total</th>\n",
       "      <th>...</th>\n",
       "      <th>SSN</th>\n",
       "      <th>Phone No.</th>\n",
       "      <th>Place Name</th>\n",
       "      <th>County</th>\n",
       "      <th>City</th>\n",
       "      <th>State</th>\n",
       "      <th>Zip</th>\n",
       "      <th>Region</th>\n",
       "      <th>User Name</th>\n",
       "      <th>Discount_Percent</th>\n",
       "    </tr>\n",
       "  </thead>\n",
       "  <tbody>\n",
       "    <tr>\n",
       "      <th>0</th>\n",
       "      <td>100354678</td>\n",
       "      <td>2020-10-01</td>\n",
       "      <td>received</td>\n",
       "      <td>574772.0</td>\n",
       "      <td>oasis_Oasis-064-36</td>\n",
       "      <td>21.0</td>\n",
       "      <td>89.9</td>\n",
       "      <td>1798.0</td>\n",
       "      <td>0.0</td>\n",
       "      <td>1798.0</td>\n",
       "      <td>...</td>\n",
       "      <td>627-31-5251</td>\n",
       "      <td>405-959-1129</td>\n",
       "      <td>Vinson</td>\n",
       "      <td>Harmon</td>\n",
       "      <td>Vinson</td>\n",
       "      <td>OK</td>\n",
       "      <td>73571</td>\n",
       "      <td>South</td>\n",
       "      <td>jwtitus</td>\n",
       "      <td>0.0</td>\n",
       "    </tr>\n",
       "    <tr>\n",
       "      <th>1</th>\n",
       "      <td>100354678</td>\n",
       "      <td>2020-10-01</td>\n",
       "      <td>received</td>\n",
       "      <td>574774.0</td>\n",
       "      <td>Fantastic_FT-48</td>\n",
       "      <td>11.0</td>\n",
       "      <td>19.0</td>\n",
       "      <td>190.0</td>\n",
       "      <td>0.0</td>\n",
       "      <td>190.0</td>\n",
       "      <td>...</td>\n",
       "      <td>627-31-5251</td>\n",
       "      <td>405-959-1129</td>\n",
       "      <td>Vinson</td>\n",
       "      <td>Harmon</td>\n",
       "      <td>Vinson</td>\n",
       "      <td>OK</td>\n",
       "      <td>73571</td>\n",
       "      <td>South</td>\n",
       "      <td>jwtitus</td>\n",
       "      <td>0.0</td>\n",
       "    </tr>\n",
       "    <tr>\n",
       "      <th>2</th>\n",
       "      <td>100354680</td>\n",
       "      <td>2020-10-01</td>\n",
       "      <td>complete</td>\n",
       "      <td>574777.0</td>\n",
       "      <td>mdeal_DMC-610-8</td>\n",
       "      <td>9.0</td>\n",
       "      <td>149.9</td>\n",
       "      <td>1199.2</td>\n",
       "      <td>0.0</td>\n",
       "      <td>1199.2</td>\n",
       "      <td>...</td>\n",
       "      <td>627-31-5251</td>\n",
       "      <td>405-959-1129</td>\n",
       "      <td>Vinson</td>\n",
       "      <td>Harmon</td>\n",
       "      <td>Vinson</td>\n",
       "      <td>OK</td>\n",
       "      <td>73571</td>\n",
       "      <td>South</td>\n",
       "      <td>jwtitus</td>\n",
       "      <td>0.0</td>\n",
       "    </tr>\n",
       "    <tr>\n",
       "      <th>3</th>\n",
       "      <td>100354680</td>\n",
       "      <td>2020-10-01</td>\n",
       "      <td>complete</td>\n",
       "      <td>574779.0</td>\n",
       "      <td>oasis_Oasis-061-36</td>\n",
       "      <td>9.0</td>\n",
       "      <td>79.9</td>\n",
       "      <td>639.2</td>\n",
       "      <td>0.0</td>\n",
       "      <td>639.2</td>\n",
       "      <td>...</td>\n",
       "      <td>627-31-5251</td>\n",
       "      <td>405-959-1129</td>\n",
       "      <td>Vinson</td>\n",
       "      <td>Harmon</td>\n",
       "      <td>Vinson</td>\n",
       "      <td>OK</td>\n",
       "      <td>73571</td>\n",
       "      <td>South</td>\n",
       "      <td>jwtitus</td>\n",
       "      <td>0.0</td>\n",
       "    </tr>\n",
       "    <tr>\n",
       "      <th>4</th>\n",
       "      <td>100367357</td>\n",
       "      <td>2020-11-13</td>\n",
       "      <td>received</td>\n",
       "      <td>595185.0</td>\n",
       "      <td>MEFNAR59C38B6CA08CD</td>\n",
       "      <td>2.0</td>\n",
       "      <td>99.9</td>\n",
       "      <td>99.9</td>\n",
       "      <td>0.0</td>\n",
       "      <td>99.9</td>\n",
       "      <td>...</td>\n",
       "      <td>627-31-5251</td>\n",
       "      <td>405-959-1129</td>\n",
       "      <td>Vinson</td>\n",
       "      <td>Harmon</td>\n",
       "      <td>Vinson</td>\n",
       "      <td>OK</td>\n",
       "      <td>73571</td>\n",
       "      <td>South</td>\n",
       "      <td>jwtitus</td>\n",
       "      <td>0.0</td>\n",
       "    </tr>\n",
       "  </tbody>\n",
       "</table>\n",
       "<p>5 rows × 36 columns</p>\n",
       "</div>"
      ],
      "text/plain": [
       "    order_id  order_date    status   item_id                  sku  \\\n",
       "0  100354678  2020-10-01  received  574772.0   oasis_Oasis-064-36   \n",
       "1  100354678  2020-10-01  received  574774.0      Fantastic_FT-48   \n",
       "2  100354680  2020-10-01  complete  574777.0      mdeal_DMC-610-8   \n",
       "3  100354680  2020-10-01  complete  574779.0   oasis_Oasis-061-36   \n",
       "4  100367357  2020-11-13  received  595185.0  MEFNAR59C38B6CA08CD   \n",
       "\n",
       "   qty_ordered  price   value  discount_amount   total  ...          SSN  \\\n",
       "0         21.0   89.9  1798.0              0.0  1798.0  ...  627-31-5251   \n",
       "1         11.0   19.0   190.0              0.0   190.0  ...  627-31-5251   \n",
       "2          9.0  149.9  1199.2              0.0  1199.2  ...  627-31-5251   \n",
       "3          9.0   79.9   639.2              0.0   639.2  ...  627-31-5251   \n",
       "4          2.0   99.9    99.9              0.0    99.9  ...  627-31-5251   \n",
       "\n",
       "     Phone No.  Place Name  County    City State    Zip Region User Name  \\\n",
       "0  405-959-1129     Vinson  Harmon  Vinson    OK  73571  South   jwtitus   \n",
       "1  405-959-1129     Vinson  Harmon  Vinson    OK  73571  South   jwtitus   \n",
       "2  405-959-1129     Vinson  Harmon  Vinson    OK  73571  South   jwtitus   \n",
       "3  405-959-1129     Vinson  Harmon  Vinson    OK  73571  South   jwtitus   \n",
       "4  405-959-1129     Vinson  Harmon  Vinson    OK  73571  South   jwtitus   \n",
       "\n",
       "  Discount_Percent  \n",
       "0              0.0  \n",
       "1              0.0  \n",
       "2              0.0  \n",
       "3              0.0  \n",
       "4              0.0  \n",
       "\n",
       "[5 rows x 36 columns]"
      ]
     },
     "execution_count": 2,
     "metadata": {},
     "output_type": "execute_result"
    }
   ],
   "source": [
    "import pandas as pd\n",
    "import numpy as np\n",
    "import matplotlib.pyplot as plt\n",
    "import seaborn as sns\n",
    "sales_df = pd.read_csv(\"Data/sales_06_FY2020-21 copy.csv\")\n",
    "sales_df.head()"
   ]
  },
  {
   "cell_type": "code",
   "execution_count": 3,
   "metadata": {
    "pycharm": {
     "name": "#%%\n"
    }
   },
   "outputs": [
    {
     "data": {
      "text/plain": [
       "Index(['order_id', 'order_date', 'status', 'item_id', 'sku', 'qty_ordered',\n",
       "       'price', 'value', 'discount_amount', 'total', 'category',\n",
       "       'payment_method', 'bi_st', 'cust_id', 'year', 'month', 'ref_num',\n",
       "       'Name Prefix', 'First Name', 'Middle Initial', 'Last Name', 'Gender',\n",
       "       'age', 'full_name', 'E Mail', 'Customer Since', 'SSN', 'Phone No. ',\n",
       "       'Place Name', 'County', 'City', 'State', 'Zip', 'Region', 'User Name',\n",
       "       'Discount_Percent'],\n",
       "      dtype='object')"
      ]
     },
     "execution_count": 3,
     "metadata": {},
     "output_type": "execute_result"
    }
   ],
   "source": [
    "sales_df.columns"
   ]
  },
  {
   "cell_type": "code",
   "execution_count": 4,
   "metadata": {
    "pycharm": {
     "name": "#%%\n"
    }
   },
   "outputs": [
    {
     "data": {
      "text/html": [
       "<div>\n",
       "<style scoped>\n",
       "    .dataframe tbody tr th:only-of-type {\n",
       "        vertical-align: middle;\n",
       "    }\n",
       "\n",
       "    .dataframe tbody tr th {\n",
       "        vertical-align: top;\n",
       "    }\n",
       "\n",
       "    .dataframe thead th {\n",
       "        text-align: right;\n",
       "    }\n",
       "</style>\n",
       "<table border=\"1\" class=\"dataframe\">\n",
       "  <thead>\n",
       "    <tr style=\"text-align: right;\">\n",
       "      <th></th>\n",
       "      <th>order_id</th>\n",
       "      <th>order_date</th>\n",
       "      <th>status</th>\n",
       "      <th>item_id</th>\n",
       "      <th>sku</th>\n",
       "      <th>qty_ordered</th>\n",
       "      <th>price</th>\n",
       "      <th>value</th>\n",
       "      <th>discount_amount</th>\n",
       "      <th>total</th>\n",
       "      <th>...</th>\n",
       "      <th>SSN</th>\n",
       "      <th>Phone No.</th>\n",
       "      <th>Place Name</th>\n",
       "      <th>County</th>\n",
       "      <th>City</th>\n",
       "      <th>State</th>\n",
       "      <th>Zip</th>\n",
       "      <th>Region</th>\n",
       "      <th>User Name</th>\n",
       "      <th>Discount_Percent</th>\n",
       "    </tr>\n",
       "  </thead>\n",
       "  <tbody>\n",
       "    <tr>\n",
       "      <th>0</th>\n",
       "      <td>100354678</td>\n",
       "      <td>2020-10-01</td>\n",
       "      <td>received</td>\n",
       "      <td>574772.0</td>\n",
       "      <td>oasis_Oasis-064-36</td>\n",
       "      <td>21.0</td>\n",
       "      <td>89.9</td>\n",
       "      <td>1798.0</td>\n",
       "      <td>0.0</td>\n",
       "      <td>1798.0</td>\n",
       "      <td>...</td>\n",
       "      <td>627-31-5251</td>\n",
       "      <td>405-959-1129</td>\n",
       "      <td>Vinson</td>\n",
       "      <td>Harmon</td>\n",
       "      <td>Vinson</td>\n",
       "      <td>OK</td>\n",
       "      <td>73571</td>\n",
       "      <td>South</td>\n",
       "      <td>jwtitus</td>\n",
       "      <td>0.0</td>\n",
       "    </tr>\n",
       "    <tr>\n",
       "      <th>1</th>\n",
       "      <td>100354678</td>\n",
       "      <td>2020-10-01</td>\n",
       "      <td>received</td>\n",
       "      <td>574774.0</td>\n",
       "      <td>Fantastic_FT-48</td>\n",
       "      <td>11.0</td>\n",
       "      <td>19.0</td>\n",
       "      <td>190.0</td>\n",
       "      <td>0.0</td>\n",
       "      <td>190.0</td>\n",
       "      <td>...</td>\n",
       "      <td>627-31-5251</td>\n",
       "      <td>405-959-1129</td>\n",
       "      <td>Vinson</td>\n",
       "      <td>Harmon</td>\n",
       "      <td>Vinson</td>\n",
       "      <td>OK</td>\n",
       "      <td>73571</td>\n",
       "      <td>South</td>\n",
       "      <td>jwtitus</td>\n",
       "      <td>0.0</td>\n",
       "    </tr>\n",
       "    <tr>\n",
       "      <th>2</th>\n",
       "      <td>100354680</td>\n",
       "      <td>2020-10-01</td>\n",
       "      <td>complete</td>\n",
       "      <td>574777.0</td>\n",
       "      <td>mdeal_DMC-610-8</td>\n",
       "      <td>9.0</td>\n",
       "      <td>149.9</td>\n",
       "      <td>1199.2</td>\n",
       "      <td>0.0</td>\n",
       "      <td>1199.2</td>\n",
       "      <td>...</td>\n",
       "      <td>627-31-5251</td>\n",
       "      <td>405-959-1129</td>\n",
       "      <td>Vinson</td>\n",
       "      <td>Harmon</td>\n",
       "      <td>Vinson</td>\n",
       "      <td>OK</td>\n",
       "      <td>73571</td>\n",
       "      <td>South</td>\n",
       "      <td>jwtitus</td>\n",
       "      <td>0.0</td>\n",
       "    </tr>\n",
       "    <tr>\n",
       "      <th>3</th>\n",
       "      <td>100354680</td>\n",
       "      <td>2020-10-01</td>\n",
       "      <td>complete</td>\n",
       "      <td>574779.0</td>\n",
       "      <td>oasis_Oasis-061-36</td>\n",
       "      <td>9.0</td>\n",
       "      <td>79.9</td>\n",
       "      <td>639.2</td>\n",
       "      <td>0.0</td>\n",
       "      <td>639.2</td>\n",
       "      <td>...</td>\n",
       "      <td>627-31-5251</td>\n",
       "      <td>405-959-1129</td>\n",
       "      <td>Vinson</td>\n",
       "      <td>Harmon</td>\n",
       "      <td>Vinson</td>\n",
       "      <td>OK</td>\n",
       "      <td>73571</td>\n",
       "      <td>South</td>\n",
       "      <td>jwtitus</td>\n",
       "      <td>0.0</td>\n",
       "    </tr>\n",
       "    <tr>\n",
       "      <th>4</th>\n",
       "      <td>100367357</td>\n",
       "      <td>2020-11-13</td>\n",
       "      <td>received</td>\n",
       "      <td>595185.0</td>\n",
       "      <td>MEFNAR59C38B6CA08CD</td>\n",
       "      <td>2.0</td>\n",
       "      <td>99.9</td>\n",
       "      <td>99.9</td>\n",
       "      <td>0.0</td>\n",
       "      <td>99.9</td>\n",
       "      <td>...</td>\n",
       "      <td>627-31-5251</td>\n",
       "      <td>405-959-1129</td>\n",
       "      <td>Vinson</td>\n",
       "      <td>Harmon</td>\n",
       "      <td>Vinson</td>\n",
       "      <td>OK</td>\n",
       "      <td>73571</td>\n",
       "      <td>South</td>\n",
       "      <td>jwtitus</td>\n",
       "      <td>0.0</td>\n",
       "    </tr>\n",
       "    <tr>\n",
       "      <th>...</th>\n",
       "      <td>...</td>\n",
       "      <td>...</td>\n",
       "      <td>...</td>\n",
       "      <td>...</td>\n",
       "      <td>...</td>\n",
       "      <td>...</td>\n",
       "      <td>...</td>\n",
       "      <td>...</td>\n",
       "      <td>...</td>\n",
       "      <td>...</td>\n",
       "      <td>...</td>\n",
       "      <td>...</td>\n",
       "      <td>...</td>\n",
       "      <td>...</td>\n",
       "      <td>...</td>\n",
       "      <td>...</td>\n",
       "      <td>...</td>\n",
       "      <td>...</td>\n",
       "      <td>...</td>\n",
       "      <td>...</td>\n",
       "      <td>...</td>\n",
       "    </tr>\n",
       "    <tr>\n",
       "      <th>286387</th>\n",
       "      <td>100562365</td>\n",
       "      <td>2021-09-30</td>\n",
       "      <td>paid</td>\n",
       "      <td>905179.0</td>\n",
       "      <td>APPCHA5AF14939B8F8A</td>\n",
       "      <td>2.0</td>\n",
       "      <td>4419.9</td>\n",
       "      <td>4419.9</td>\n",
       "      <td>0.0</td>\n",
       "      <td>4419.9</td>\n",
       "      <td>...</td>\n",
       "      <td>613-87-0361</td>\n",
       "      <td>212-772-7404</td>\n",
       "      <td>Rushville</td>\n",
       "      <td>Yates</td>\n",
       "      <td>Rushville</td>\n",
       "      <td>NY</td>\n",
       "      <td>14544</td>\n",
       "      <td>Northeast</td>\n",
       "      <td>bklatham</td>\n",
       "      <td>0.0</td>\n",
       "    </tr>\n",
       "    <tr>\n",
       "      <th>286388</th>\n",
       "      <td>100562376</td>\n",
       "      <td>2021-09-30</td>\n",
       "      <td>cod</td>\n",
       "      <td>905191.0</td>\n",
       "      <td>MEFCOT5A8D1E973B886</td>\n",
       "      <td>2.0</td>\n",
       "      <td>39.9</td>\n",
       "      <td>39.9</td>\n",
       "      <td>0.0</td>\n",
       "      <td>39.9</td>\n",
       "      <td>...</td>\n",
       "      <td>101-02-1040</td>\n",
       "      <td>229-817-9451</td>\n",
       "      <td>Lawrenceville</td>\n",
       "      <td>Gwinnett</td>\n",
       "      <td>Lawrenceville</td>\n",
       "      <td>GA</td>\n",
       "      <td>30044</td>\n",
       "      <td>South</td>\n",
       "      <td>bmbrunetti</td>\n",
       "      <td>0.0</td>\n",
       "    </tr>\n",
       "    <tr>\n",
       "      <th>286389</th>\n",
       "      <td>100562383</td>\n",
       "      <td>2021-09-30</td>\n",
       "      <td>cod</td>\n",
       "      <td>905200.0</td>\n",
       "      <td>WOFVAL59D5EA84167F9-M</td>\n",
       "      <td>2.0</td>\n",
       "      <td>40.0</td>\n",
       "      <td>40.0</td>\n",
       "      <td>0.0</td>\n",
       "      <td>40.0</td>\n",
       "      <td>...</td>\n",
       "      <td>399-31-7238</td>\n",
       "      <td>252-414-8396</td>\n",
       "      <td>Durham</td>\n",
       "      <td>Durham</td>\n",
       "      <td>Durham</td>\n",
       "      <td>NC</td>\n",
       "      <td>27701</td>\n",
       "      <td>South</td>\n",
       "      <td>fngiusti</td>\n",
       "      <td>0.0</td>\n",
       "    </tr>\n",
       "    <tr>\n",
       "      <th>286390</th>\n",
       "      <td>100562384</td>\n",
       "      <td>2021-09-30</td>\n",
       "      <td>cod</td>\n",
       "      <td>905202.0</td>\n",
       "      <td>WOFNIG5B4D7EB0E9FDD-L</td>\n",
       "      <td>2.0</td>\n",
       "      <td>49.9</td>\n",
       "      <td>49.9</td>\n",
       "      <td>0.0</td>\n",
       "      <td>49.9</td>\n",
       "      <td>...</td>\n",
       "      <td>399-31-7238</td>\n",
       "      <td>252-414-8396</td>\n",
       "      <td>Durham</td>\n",
       "      <td>Durham</td>\n",
       "      <td>Durham</td>\n",
       "      <td>NC</td>\n",
       "      <td>27701</td>\n",
       "      <td>South</td>\n",
       "      <td>fngiusti</td>\n",
       "      <td>0.0</td>\n",
       "    </tr>\n",
       "    <tr>\n",
       "      <th>286391</th>\n",
       "      <td>100562386</td>\n",
       "      <td>2021-09-30</td>\n",
       "      <td>processing</td>\n",
       "      <td>905205.0</td>\n",
       "      <td>MATHUA5AF70A7D1E50A</td>\n",
       "      <td>2.0</td>\n",
       "      <td>3559.9</td>\n",
       "      <td>3559.9</td>\n",
       "      <td>0.0</td>\n",
       "      <td>3559.9</td>\n",
       "      <td>...</td>\n",
       "      <td>320-11-8748</td>\n",
       "      <td>423-276-2699</td>\n",
       "      <td>Knoxville</td>\n",
       "      <td>Knox</td>\n",
       "      <td>Knoxville</td>\n",
       "      <td>TN</td>\n",
       "      <td>37920</td>\n",
       "      <td>South</td>\n",
       "      <td>reschlosser</td>\n",
       "      <td>0.0</td>\n",
       "    </tr>\n",
       "  </tbody>\n",
       "</table>\n",
       "<p>286392 rows × 36 columns</p>\n",
       "</div>"
      ],
      "text/plain": [
       "         order_id  order_date      status   item_id                    sku  \\\n",
       "0       100354678  2020-10-01    received  574772.0     oasis_Oasis-064-36   \n",
       "1       100354678  2020-10-01    received  574774.0        Fantastic_FT-48   \n",
       "2       100354680  2020-10-01    complete  574777.0        mdeal_DMC-610-8   \n",
       "3       100354680  2020-10-01    complete  574779.0     oasis_Oasis-061-36   \n",
       "4       100367357  2020-11-13    received  595185.0    MEFNAR59C38B6CA08CD   \n",
       "...           ...         ...         ...       ...                    ...   \n",
       "286387  100562365  2021-09-30        paid  905179.0    APPCHA5AF14939B8F8A   \n",
       "286388  100562376  2021-09-30         cod  905191.0    MEFCOT5A8D1E973B886   \n",
       "286389  100562383  2021-09-30         cod  905200.0  WOFVAL59D5EA84167F9-M   \n",
       "286390  100562384  2021-09-30         cod  905202.0  WOFNIG5B4D7EB0E9FDD-L   \n",
       "286391  100562386  2021-09-30  processing  905205.0    MATHUA5AF70A7D1E50A   \n",
       "\n",
       "        qty_ordered   price   value  discount_amount   total  ...  \\\n",
       "0              21.0    89.9  1798.0              0.0  1798.0  ...   \n",
       "1              11.0    19.0   190.0              0.0   190.0  ...   \n",
       "2               9.0   149.9  1199.2              0.0  1199.2  ...   \n",
       "3               9.0    79.9   639.2              0.0   639.2  ...   \n",
       "4               2.0    99.9    99.9              0.0    99.9  ...   \n",
       "...             ...     ...     ...              ...     ...  ...   \n",
       "286387          2.0  4419.9  4419.9              0.0  4419.9  ...   \n",
       "286388          2.0    39.9    39.9              0.0    39.9  ...   \n",
       "286389          2.0    40.0    40.0              0.0    40.0  ...   \n",
       "286390          2.0    49.9    49.9              0.0    49.9  ...   \n",
       "286391          2.0  3559.9  3559.9              0.0  3559.9  ...   \n",
       "\n",
       "                SSN    Phone No.      Place Name    County           City  \\\n",
       "0       627-31-5251  405-959-1129         Vinson    Harmon         Vinson   \n",
       "1       627-31-5251  405-959-1129         Vinson    Harmon         Vinson   \n",
       "2       627-31-5251  405-959-1129         Vinson    Harmon         Vinson   \n",
       "3       627-31-5251  405-959-1129         Vinson    Harmon         Vinson   \n",
       "4       627-31-5251  405-959-1129         Vinson    Harmon         Vinson   \n",
       "...             ...           ...            ...       ...            ...   \n",
       "286387  613-87-0361  212-772-7404      Rushville     Yates      Rushville   \n",
       "286388  101-02-1040  229-817-9451  Lawrenceville  Gwinnett  Lawrenceville   \n",
       "286389  399-31-7238  252-414-8396         Durham    Durham         Durham   \n",
       "286390  399-31-7238  252-414-8396         Durham    Durham         Durham   \n",
       "286391  320-11-8748  423-276-2699      Knoxville      Knox      Knoxville   \n",
       "\n",
       "       State    Zip     Region    User Name Discount_Percent  \n",
       "0         OK  73571      South      jwtitus              0.0  \n",
       "1         OK  73571      South      jwtitus              0.0  \n",
       "2         OK  73571      South      jwtitus              0.0  \n",
       "3         OK  73571      South      jwtitus              0.0  \n",
       "4         OK  73571      South      jwtitus              0.0  \n",
       "...      ...    ...        ...          ...              ...  \n",
       "286387    NY  14544  Northeast     bklatham              0.0  \n",
       "286388    GA  30044      South   bmbrunetti              0.0  \n",
       "286389    NC  27701      South     fngiusti              0.0  \n",
       "286390    NC  27701      South     fngiusti              0.0  \n",
       "286391    TN  37920      South  reschlosser              0.0  \n",
       "\n",
       "[286392 rows x 36 columns]"
      ]
     },
     "execution_count": 4,
     "metadata": {},
     "output_type": "execute_result"
    }
   ],
   "source": [
    "sales_df.dropna()"
   ]
  },
  {
   "cell_type": "code",
   "execution_count": 5,
   "metadata": {
    "pycharm": {
     "name": "#%%\n"
    }
   },
   "outputs": [
    {
     "data": {
      "text/html": [
       "<div>\n",
       "<style scoped>\n",
       "    .dataframe tbody tr th:only-of-type {\n",
       "        vertical-align: middle;\n",
       "    }\n",
       "\n",
       "    .dataframe tbody tr th {\n",
       "        vertical-align: top;\n",
       "    }\n",
       "\n",
       "    .dataframe thead th {\n",
       "        text-align: right;\n",
       "    }\n",
       "</style>\n",
       "<table border=\"1\" class=\"dataframe\">\n",
       "  <thead>\n",
       "    <tr style=\"text-align: right;\">\n",
       "      <th></th>\n",
       "      <th>item_id</th>\n",
       "      <th>qty_ordered</th>\n",
       "      <th>price</th>\n",
       "      <th>value</th>\n",
       "      <th>discount_amount</th>\n",
       "      <th>total</th>\n",
       "      <th>cust_id</th>\n",
       "      <th>year</th>\n",
       "      <th>ref_num</th>\n",
       "      <th>age</th>\n",
       "      <th>Zip</th>\n",
       "      <th>Discount_Percent</th>\n",
       "    </tr>\n",
       "  </thead>\n",
       "  <tbody>\n",
       "    <tr>\n",
       "      <th>count</th>\n",
       "      <td>286392.000000</td>\n",
       "      <td>286392.000000</td>\n",
       "      <td>286392.000000</td>\n",
       "      <td>286392.000000</td>\n",
       "      <td>286392.000000</td>\n",
       "      <td>286392.000000</td>\n",
       "      <td>286392.000000</td>\n",
       "      <td>286392.000000</td>\n",
       "      <td>286392.000000</td>\n",
       "      <td>286392.000000</td>\n",
       "      <td>286392.000000</td>\n",
       "      <td>286392.000000</td>\n",
       "    </tr>\n",
       "    <tr>\n",
       "      <th>mean</th>\n",
       "      <td>741664.902131</td>\n",
       "      <td>3.011296</td>\n",
       "      <td>851.385253</td>\n",
       "      <td>885.879934</td>\n",
       "      <td>70.039427</td>\n",
       "      <td>815.840507</td>\n",
       "      <td>70048.019054</td>\n",
       "      <td>2020.618778</td>\n",
       "      <td>560853.663395</td>\n",
       "      <td>46.489033</td>\n",
       "      <td>49723.160015</td>\n",
       "      <td>6.069079</td>\n",
       "    </tr>\n",
       "    <tr>\n",
       "      <th>std</th>\n",
       "      <td>95746.031827</td>\n",
       "      <td>4.573837</td>\n",
       "      <td>1741.750751</td>\n",
       "      <td>2073.252179</td>\n",
       "      <td>256.880870</td>\n",
       "      <td>1983.580302</td>\n",
       "      <td>30243.856395</td>\n",
       "      <td>0.485688</td>\n",
       "      <td>255828.418398</td>\n",
       "      <td>16.673288</td>\n",
       "      <td>27597.198873</td>\n",
       "      <td>10.100100</td>\n",
       "    </tr>\n",
       "    <tr>\n",
       "      <th>min</th>\n",
       "      <td>574769.000000</td>\n",
       "      <td>1.000000</td>\n",
       "      <td>0.000000</td>\n",
       "      <td>0.000000</td>\n",
       "      <td>0.000000</td>\n",
       "      <td>0.000000</td>\n",
       "      <td>4.000000</td>\n",
       "      <td>2020.000000</td>\n",
       "      <td>111127.000000</td>\n",
       "      <td>18.000000</td>\n",
       "      <td>210.000000</td>\n",
       "      <td>0.000000</td>\n",
       "    </tr>\n",
       "    <tr>\n",
       "      <th>25%</th>\n",
       "      <td>659684.500000</td>\n",
       "      <td>2.000000</td>\n",
       "      <td>49.900000</td>\n",
       "      <td>49.900000</td>\n",
       "      <td>0.000000</td>\n",
       "      <td>49.900000</td>\n",
       "      <td>56519.000000</td>\n",
       "      <td>2020.000000</td>\n",
       "      <td>341265.000000</td>\n",
       "      <td>32.000000</td>\n",
       "      <td>26571.750000</td>\n",
       "      <td>0.000000</td>\n",
       "    </tr>\n",
       "    <tr>\n",
       "      <th>50%</th>\n",
       "      <td>742309.000000</td>\n",
       "      <td>2.000000</td>\n",
       "      <td>119.000000</td>\n",
       "      <td>158.970000</td>\n",
       "      <td>0.000000</td>\n",
       "      <td>149.800000</td>\n",
       "      <td>74225.500000</td>\n",
       "      <td>2021.000000</td>\n",
       "      <td>564857.000000</td>\n",
       "      <td>47.000000</td>\n",
       "      <td>49316.000000</td>\n",
       "      <td>0.000000</td>\n",
       "    </tr>\n",
       "    <tr>\n",
       "      <th>75%</th>\n",
       "      <td>826124.250000</td>\n",
       "      <td>3.000000</td>\n",
       "      <td>950.000000</td>\n",
       "      <td>910.000000</td>\n",
       "      <td>18.383050</td>\n",
       "      <td>800.000000</td>\n",
       "      <td>92357.000000</td>\n",
       "      <td>2021.000000</td>\n",
       "      <td>781086.000000</td>\n",
       "      <td>61.000000</td>\n",
       "      <td>72645.000000</td>\n",
       "      <td>11.000000</td>\n",
       "    </tr>\n",
       "    <tr>\n",
       "      <th>max</th>\n",
       "      <td>905208.000000</td>\n",
       "      <td>501.000000</td>\n",
       "      <td>101262.590000</td>\n",
       "      <td>101262.590000</td>\n",
       "      <td>30213.150000</td>\n",
       "      <td>101262.590000</td>\n",
       "      <td>115326.000000</td>\n",
       "      <td>2021.000000</td>\n",
       "      <td>999981.000000</td>\n",
       "      <td>75.000000</td>\n",
       "      <td>99950.000000</td>\n",
       "      <td>75.000000</td>\n",
       "    </tr>\n",
       "  </tbody>\n",
       "</table>\n",
       "</div>"
      ],
      "text/plain": [
       "             item_id    qty_ordered          price          value  \\\n",
       "count  286392.000000  286392.000000  286392.000000  286392.000000   \n",
       "mean   741664.902131       3.011296     851.385253     885.879934   \n",
       "std     95746.031827       4.573837    1741.750751    2073.252179   \n",
       "min    574769.000000       1.000000       0.000000       0.000000   \n",
       "25%    659684.500000       2.000000      49.900000      49.900000   \n",
       "50%    742309.000000       2.000000     119.000000     158.970000   \n",
       "75%    826124.250000       3.000000     950.000000     910.000000   \n",
       "max    905208.000000     501.000000  101262.590000  101262.590000   \n",
       "\n",
       "       discount_amount          total        cust_id           year  \\\n",
       "count    286392.000000  286392.000000  286392.000000  286392.000000   \n",
       "mean         70.039427     815.840507   70048.019054    2020.618778   \n",
       "std         256.880870    1983.580302   30243.856395       0.485688   \n",
       "min           0.000000       0.000000       4.000000    2020.000000   \n",
       "25%           0.000000      49.900000   56519.000000    2020.000000   \n",
       "50%           0.000000     149.800000   74225.500000    2021.000000   \n",
       "75%          18.383050     800.000000   92357.000000    2021.000000   \n",
       "max       30213.150000  101262.590000  115326.000000    2021.000000   \n",
       "\n",
       "             ref_num            age            Zip  Discount_Percent  \n",
       "count  286392.000000  286392.000000  286392.000000     286392.000000  \n",
       "mean   560853.663395      46.489033   49723.160015          6.069079  \n",
       "std    255828.418398      16.673288   27597.198873         10.100100  \n",
       "min    111127.000000      18.000000     210.000000          0.000000  \n",
       "25%    341265.000000      32.000000   26571.750000          0.000000  \n",
       "50%    564857.000000      47.000000   49316.000000          0.000000  \n",
       "75%    781086.000000      61.000000   72645.000000         11.000000  \n",
       "max    999981.000000      75.000000   99950.000000         75.000000  "
      ]
     },
     "execution_count": 5,
     "metadata": {},
     "output_type": "execute_result"
    }
   ],
   "source": [
    "sales_df.describe()"
   ]
  },
  {
   "cell_type": "code",
   "execution_count": 6,
   "metadata": {
    "pycharm": {
     "name": "#%%\n"
    }
   },
   "outputs": [
    {
     "data": {
      "text/plain": [
       "order_id             object\n",
       "order_date           object\n",
       "status               object\n",
       "item_id             float64\n",
       "sku                  object\n",
       "qty_ordered         float64\n",
       "price               float64\n",
       "value               float64\n",
       "discount_amount     float64\n",
       "total               float64\n",
       "category             object\n",
       "payment_method       object\n",
       "bi_st                object\n",
       "cust_id             float64\n",
       "year                  int64\n",
       "month                object\n",
       "ref_num               int64\n",
       "Name Prefix          object\n",
       "First Name           object\n",
       "Middle Initial       object\n",
       "Last Name            object\n",
       "Gender               object\n",
       "age                 float64\n",
       "full_name            object\n",
       "E Mail               object\n",
       "Customer Since       object\n",
       "SSN                  object\n",
       "Phone No.            object\n",
       "Place Name           object\n",
       "County               object\n",
       "City                 object\n",
       "State                object\n",
       "Zip                   int64\n",
       "Region               object\n",
       "User Name            object\n",
       "Discount_Percent    float64\n",
       "dtype: object"
      ]
     },
     "execution_count": 6,
     "metadata": {},
     "output_type": "execute_result"
    }
   ],
   "source": [
    "sales_df.dtypes"
   ]
  },
  {
   "cell_type": "code",
   "execution_count": 7,
   "metadata": {
    "pycharm": {
     "name": "#%%\n"
    }
   },
   "outputs": [
    {
     "data": {
      "text/plain": [
       "Mobiles & Tablets     61761\n",
       "Men's Fashion         40713\n",
       "Appliances            33034\n",
       "Women's Fashion       28334\n",
       "Others                26108\n",
       "Beauty & Grooming     17899\n",
       "Entertainment         17352\n",
       "Superstore            15024\n",
       "Home & Living         13990\n",
       "Health & Sports        8421\n",
       "Computing              8110\n",
       "Soghaat                7250\n",
       "Kids & Baby            6492\n",
       "School & Education     1090\n",
       "Books                   814\n",
       "Name: category, dtype: int64"
      ]
     },
     "execution_count": 7,
     "metadata": {},
     "output_type": "execute_result"
    }
   ],
   "source": [
    "sales_df['category'].value_counts()"
   ]
  },
  {
   "cell_type": "code",
   "execution_count": 8,
   "metadata": {
    "pycharm": {
     "name": "#%%\n"
    }
   },
   "outputs": [
    {
     "data": {
      "text/plain": [
       "cod                  102916\n",
       "Easypay               69679\n",
       "Payaxis               31049\n",
       "easypay_voucher       29763\n",
       "bankalfalah           23057\n",
       "Easypay_MA            11536\n",
       "jazzwallet             6669\n",
       "jazzvoucher            6045\n",
       "customercredit         3702\n",
       "apg                    1758\n",
       "mcblite                 208\n",
       "cashatdoorstep            9\n",
       "financesettlement         1\n",
       "Name: payment_method, dtype: int64"
      ]
     },
     "execution_count": 8,
     "metadata": {},
     "output_type": "execute_result"
    }
   ],
   "source": [
    "sales_df['payment_method'].value_counts()"
   ]
  },
  {
   "cell_type": "code",
   "execution_count": 9,
   "metadata": {
    "pycharm": {
     "name": "#%%\n"
    }
   },
   "outputs": [
    {
     "name": "stdout",
     "output_type": "stream",
     "text": [
      "            category  Quantity Ordered\n",
      "0  Mobiles & Tablets          135041.0\n",
      "1             Others          109266.0\n",
      "2      Men's Fashion          102374.0\n",
      "3         Superstore          101964.0\n",
      "4         Appliances           82435.0\n",
      "5    Women's Fashion           78944.0\n",
      "6  Beauty & Grooming           71122.0\n",
      "7      Home & Living           41830.0\n",
      "8      Entertainment           34788.0\n",
      "9    Health & Sports           28611.0\n"
     ]
    }
   ],
   "source": [
    "# Get the top 10 selling categories with their values\n",
    "category_values = sales_df.groupby('category')['qty_ordered'].sum()\n",
    "top_10_selling_df = category_values.nlargest(10).reset_index(name='Quantity Ordered')\n",
    "print(top_10_selling_df)"
   ]
  },
  {
   "cell_type": "code",
   "execution_count": 10,
   "metadata": {
    "pycharm": {
     "name": "#%%\n"
    }
   },
   "outputs": [
    {
     "name": "stdout",
     "output_type": "stream",
     "text": [
      "    item_id      Value\n",
      "0  821284.0  101262.59\n",
      "1  821286.0   81500.00\n",
      "2  829931.0   63888.50\n",
      "3  845407.0   55500.00\n",
      "4  845415.0   55500.00\n",
      "5  856088.0   55500.00\n",
      "6  845333.0   52900.00\n",
      "7  856083.0   52605.00\n",
      "8  856288.0   52605.00\n",
      "9  856292.0   52605.00\n"
     ]
    }
   ],
   "source": [
    "# Calculate the total value for each product\n",
    "category_values = sales_df.groupby('item_id')['value'].sum()\n",
    "top_10_revenue_df = category_values.nlargest(10).reset_index(name='Value')\n",
    "print(top_10_revenue_df)"
   ]
  },
  {
   "cell_type": "code",
   "execution_count": 11,
   "metadata": {
    "pycharm": {
     "name": "#%%\n"
    }
   },
   "outputs": [
    {
     "name": "stdout",
     "output_type": "stream",
     "text": [
      "Average Order Value:  815.8405068301138\n"
     ]
    }
   ],
   "source": [
    "# Calculate the average order value\n",
    "average_order_value = sales_df['total'].mean()\n",
    "print(\"Average Order Value: \", average_order_value)"
   ]
  },
  {
   "cell_type": "code",
   "execution_count": 12,
   "metadata": {
    "pycharm": {
     "name": "#%%\n"
    }
   },
   "outputs": [
    {
     "name": "stdout",
     "output_type": "stream",
     "text": [
      "Average Customer Age:  46.489032514874715\n"
     ]
    }
   ],
   "source": [
    "# Calculate the average order value\n",
    "average_customer_age = sales_df['age'].mean()\n",
    "print(\"Average Customer Age: \", average_customer_age)"
   ]
  },
  {
   "cell_type": "code",
   "execution_count": 13,
   "metadata": {
    "pycharm": {
     "name": "#%%\n"
    }
   },
   "outputs": [
    {
     "name": "stdout",
     "output_type": "stream",
     "text": [
      "Average Active Duration For Customers (in years):  15.678299807104125\n"
     ]
    }
   ],
   "source": [
    "from datetime import datetime\n",
    "sales_df['Customer Since'] = pd.to_datetime(sales_df['Customer Since'])\n",
    "current_date = datetime.now()\n",
    "sales_df['Active Duration'] = (current_date - sales_df['Customer Since']).dt.days\n",
    "average_active_duration = sales_df['Active Duration'].mean()\n",
    "print(\"Average Active Duration For Customers (in years): \", average_active_duration / 365)"
   ]
  },
  {
   "cell_type": "code",
   "execution_count": 14,
   "metadata": {
    "pycharm": {
     "name": "#%%\n"
    }
   },
   "outputs": [
    {
     "name": "stdout",
     "output_type": "stream",
     "text": [
      "South        103482\n",
      "Midwest       81299\n",
      "West          51080\n",
      "Northeast     50531\n",
      "Name: Region, dtype: int64\n"
     ]
    }
   ],
   "source": [
    "# Calculate the count of customers in each region\n",
    "customer_distribution = sales_df['Region'].value_counts()\n",
    "print(customer_distribution)"
   ]
  },
  {
   "cell_type": "code",
   "execution_count": 15,
   "metadata": {
    "pycharm": {
     "name": "#%%\n"
    }
   },
   "outputs": [
    {
     "name": "stdout",
     "output_type": "stream",
     "text": [
      "item_id\n",
      "845510.0    501.0\n",
      "856247.0    501.0\n",
      "859845.0    501.0\n",
      "859848.0    501.0\n",
      "859851.0    501.0\n",
      "856248.0    381.0\n",
      "716433.0    371.0\n",
      "711455.0    361.0\n",
      "716442.0    361.0\n",
      "861478.0    351.0\n",
      "Name: qty_ordered, dtype: float64\n"
     ]
    }
   ],
   "source": [
    "# Top  10 items total sales volume\n",
    "item_sales_volume = sales_df.groupby('item_id')['qty_ordered'].sum()\n",
    "top_selling_items = item_sales_volume.nlargest(10) \n",
    "print(top_selling_items)"
   ]
  },
  {
   "cell_type": "code",
   "execution_count": 16,
   "metadata": {
    "pycharm": {
     "name": "#%%\n"
    }
   },
   "outputs": [
    {
     "name": "stdout",
     "output_type": "stream",
     "text": [
      "Average Quantity per Order:  3.011295706583983\n"
     ]
    }
   ],
   "source": [
    "# Calculate the average quantity of items per order\n",
    "average_quantity_per_order = sales_df['qty_ordered'].mean()\n",
    "print(\"Average Quantity per Order: \", average_quantity_per_order)"
   ]
  },
  {
   "cell_type": "code",
   "execution_count": 17,
   "metadata": {
    "pycharm": {
     "name": "#%%\n"
    }
   },
   "outputs": [
    {
     "name": "stdout",
     "output_type": "stream",
     "text": [
      "Average Discount per Order:  70.04 %\n"
     ]
    }
   ],
   "source": [
    "average_discount_per_order = round(sales_df['discount_amount'].mean() , 2)\n",
    "print(\"Average Discount per Order: \", average_discount_per_order , \"%\")"
   ]
  },
  {
   "cell_type": "code",
   "execution_count": 18,
   "metadata": {
    "pycharm": {
     "name": "#%%\n"
    }
   },
   "outputs": [
    {
     "name": "stderr",
     "output_type": "stream",
     "text": [
      "C:\\Users\\abdal\\AppData\\Local\\Temp\\ipykernel_31668\\2299823347.py:4: FutureWarning: The default value of numeric_only in DataFrame.corr is deprecated. In a future version, it will default to False. Select only valid columns or specify the value of numeric_only to silence this warning.\n",
      "  corr_heatmap = sales_df.corr()\n"
     ]
    },
    {
     "data": {
      "image/png": "[encoded data removed]",
      "text/plain": [
       "<Figure size 1000x1000 with 2 Axes>"
      ]
     },
     "metadata": {},
     "output_type": "display_data"
    }
   ],
   "source": [
    "#Correlation Heatmap\n",
    "corr_heatmap = sales_df.corr()\n",
    "fig, ax = plt.subplots(figsize=(10, 10))\n",
    "cmap = sns.diverging_palette(220, 15, as_cmap=True)\n",
    "sns.heatmap(corr_heatmap, cmap=cmap, vmax=1, vmin=-1, center=0, annot=True,\n",
    "            square=True, linewidths=0.5, cbar_kws={\"shrink\": 0.5})\n",
    "plt.xticks(rotation=90)\n",
    "plt.show()"
   ]
  },
  {
   "cell_type": "markdown",
   "metadata": {
    "pycharm": {
     "name": "#%% md\n"
    }
   },
   "source": [
    "Discount Amount is positively correlated to sales"
   ]
  },
  {
   "cell_type": "code",
   "execution_count": 19,
   "metadata": {
    "pycharm": {
     "name": "#%%\n"
    }
   },
   "outputs": [
    {
     "data": {
      "image/png": "[encoded data removed]",
      "text/plain": [
       "<Figure size 800x600 with 1 Axes>"
      ]
     },
     "metadata": {},
     "output_type": "display_data"
    }
   ],
   "source": [
    "# Plot the distribution of the quantity of items per order\n",
    "plt.figure(figsize=(8, 6))\n",
    "plt.hist(sales_df['qty_ordered'], bins=10, edgecolor='black')\n",
    "plt.xlabel('Quantity of Items')\n",
    "plt.ylabel('Frequency')\n",
    "plt.title('Distribution of Quantity of Items per Order')\n",
    "plt.show()"
   ]
  },
  {
   "cell_type": "markdown",
   "metadata": {
    "pycharm": {
     "name": "#%% md\n"
    }
   },
   "source": [
    "Customers don't usually tend to order multiple items at once\n"
   ]
  },
  {
   "cell_type": "code",
   "execution_count": 20,
   "metadata": {
    "pycharm": {
     "name": "#%%\n"
    }
   },
   "outputs": [
    {
     "name": "stdout",
     "output_type": "stream",
     "text": [
      "Top High-Value Orders:\n",
      "         order_id  total_value  discount_amount      total\n",
      "12900   100510800    202525.18              0.0  101262.59\n",
      "242817  100510802     97800.00              0.0   81500.00\n",
      "246092  100515480     76666.20              0.0   63888.50\n",
      "257711  100533797     66600.00              0.0   55500.00\n",
      "257706  100526153     66600.00              0.0   55500.00\n",
      "257707  100526159     66600.00              0.0   55500.00\n",
      "242825  100517032     65200.00              0.0   48900.00\n",
      "169129  100440925     64000.00              0.0   32000.00\n",
      "257705  100526104     63480.00              0.0   52900.00\n",
      "257712  100533912     63126.00              0.0   52605.00\n"
     ]
    }
   ],
   "source": [
    "# Identify High-Value Orders\n",
    "sales_df['total_value'] = sales_df['qty_ordered'] * sales_df['price']\n",
    "high_value_orders = sales_df.sort_values('total_value', ascending=False)\n",
    "top_high_value_orders = high_value_orders.head(10)\n",
    "\n",
    "# Identify Large Discounts\n",
    "sales_df['discount_percent'] = (sales_df['discount_amount'] / sales_df['total']) * 100\n",
    "large_discount_orders = sales_df.sort_values('discount_percent', ascending=False)\n",
    "top_large_discount_orders = large_discount_orders.head(10)\n",
    "\n",
    "print(\"Top High-Value Orders:\")\n",
    "print(top_high_value_orders[['order_id', 'total_value', 'discount_amount', 'total']])"
   ]
  },
  {
   "cell_type": "code",
   "execution_count": 22,
   "metadata": {
    "pycharm": {
     "name": "#%%\n"
    }
   },
   "outputs": [
    {
     "name": "stdout",
     "output_type": "stream",
     "text": [
      "\n",
      "Top Orders with Large Discounts:\n",
      "         order_id  total_value  discount_amount    total\n",
      "64346   100538122        400.0           245.00   105.00\n",
      "202975  100465141       2000.0          1225.00   525.00\n",
      "202205  100464621       8000.0          4900.00  2100.00\n",
      "202974  100465141       2000.0          1225.00   525.00\n",
      "213587  100488963        558.6           335.04   143.76\n",
      "258210  100560271        123.2            73.89    31.71\n",
      "259432  100528114        168.0           100.74    43.26\n",
      "284997  100560547        419.3           251.37   108.03\n",
      "78844   100476436        100.1            60.00    25.80\n",
      "72993   100561750        728.0           436.32   187.68\n"
     ]
    }
   ],
   "source": [
    "print(\"\\nTop Orders with Large Discounts:\")\n",
    "print(top_large_discount_orders[['order_id', 'total_value', 'discount_amount', 'total']])"
   ]
  },
  {
   "cell_type": "code",
   "execution_count": null,
   "metadata": {
    "pycharm": {
     "name": "#%%\n"
    }
   },
   "outputs": [],
   "source": []
  }
 ],
 "metadata": {
  "kernelspec": {
   "display_name": "Python 3 (ipykernel)",
   "language": "python",
   "name": "python3"
  },
  "language_info": {
   "codemirror_mode": {
    "name": "ipython",
    "version": 3
   },
   "file_extension": ".py",
   "mimetype": "text/x-python",
   "name": "python",
   "nbconvert_exporter": "python",
   "pygments_lexer": "ipython3",
   "version": "3.10.11"
  }
 },
 "nbformat": 4,
 "nbformat_minor": 1
}